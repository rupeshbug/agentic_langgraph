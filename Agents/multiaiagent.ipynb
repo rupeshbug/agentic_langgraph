{
 "cells": [
  {
   "cell_type": "code",
   "execution_count": 13,
   "id": "1334c366",
   "metadata": {},
   "outputs": [
    {
     "data": {
      "text/plain": [
       "True"
      ]
     },
     "execution_count": 13,
     "metadata": {},
     "output_type": "execute_result"
    }
   ],
   "source": [
    "import os\n",
    "from typing import TypedDict, Annotated, List, Literal\n",
    "\n",
    "from langchain_core.messages import BaseMessage, HumanMessage, AIMessage, SystemMessage\n",
    "\n",
    "from langchain.chat_models import init_chat_model\n",
    "from langchain_groq import ChatGroq\n",
    "from langchain_core.tools import tool\n",
    "from langchain_community.tools.tavily_search import TavilySearchResults\n",
    "from langgraph.prebuilt import create_react_agent\n",
    "from langgraph.checkpoint.memory import MemorySaver\n",
    "from langgraph.graph import StateGraph, END, MessagesState\n",
    "from langgraph.prebuilt import ToolNode\n",
    "from langgraph.checkpoint.memory import MemorySaver\n",
    "\n",
    "import os\n",
    "from dotenv import load_dotenv\n",
    "load_dotenv()"
   ]
  },
  {
   "cell_type": "code",
   "execution_count": 14,
   "id": "96c95413",
   "metadata": {},
   "outputs": [],
   "source": [
    "os.environ[\"GROQ_API_KEY\"] = os.getenv(\"GROQ_API_KEY\")"
   ]
  },
  {
   "cell_type": "markdown",
   "id": "84c9a4ce",
   "metadata": {},
   "source": [
    "## Simple Multi AI Agent Architecture"
   ]
  },
  {
   "cell_type": "code",
   "execution_count": 15,
   "id": "22ff5e0c",
   "metadata": {},
   "outputs": [],
   "source": [
    "class AgentState(MessagesState):\n",
    "    # determine which agent should go next\n",
    "    next_agent:str"
   ]
  },
  {
   "cell_type": "code",
   "execution_count": 16,
   "id": "bfcfb893",
   "metadata": {},
   "outputs": [],
   "source": [
    "@tool \n",
    "def search_web(query: str) -> str:\n",
    "    \"\"\"Search the web for the information\"\"\"\n",
    "    search = TavilySearchResults(max_results=3)\n",
    "    results = search.invoke(query)\n",
    "    return str(results)\n",
    "\n",
    "@tool\n",
    "def write_summary(content: str) -> str:\n",
    "    \"\"\"Write a summary of the provided content\"\"\"\n",
    "    summary = f\"Summary of the findings:\\n\\n{content[:500]}...\"\n",
    "    return summary"
   ]
  },
  {
   "cell_type": "code",
   "execution_count": 17,
   "id": "c00ae117",
   "metadata": {},
   "outputs": [
    {
     "data": {
      "text/plain": [
       "ChatGroq(client=<groq.resources.chat.completions.Completions object at 0x000001949E6B0850>, async_client=<groq.resources.chat.completions.AsyncCompletions object at 0x000001949E6A4F90>, model_name='llama-3.1-8b-instant', model_kwargs={}, groq_api_key=SecretStr('**********'))"
      ]
     },
     "execution_count": 17,
     "metadata": {},
     "output_type": "execute_result"
    }
   ],
   "source": [
    "llm = init_chat_model(\"groq:llama-3.1-8b-instant\")\n",
    "llm"
   ]
  },
  {
   "cell_type": "code",
   "execution_count": 19,
   "id": "a2af1263",
   "metadata": {},
   "outputs": [],
   "source": [
    "def researcher_agent(state: AgentState):\n",
    "    \"\"\"Researcher agent that searches for information\"\"\"\n",
    "    \n",
    "    messages = state[\"messages\"]\n",
    "    \n",
    "    # Add system message for context\n",
    "    system_msg = SystemMessage(content=\"You are a research assistant. Use the search_web tool to find information about the user's request.\")\n",
    "    \n",
    "    # Call LLM with tools\n",
    "    researcher_llm = llm.bind_tools([search_web])\n",
    "    response = researcher_llm.invoke([system_msg] + messages)\n",
    "    \n",
    "    # Return the response and route to writer\n",
    "    return {\n",
    "        \"messages\": [response],\n",
    "        \"next_agent\": \"writer\" \n",
    "    }"
   ]
  },
  {
   "cell_type": "code",
   "execution_count": 20,
   "id": "3913689f",
   "metadata": {},
   "outputs": [],
   "source": [
    "def writer_agent(state: AgentState):\n",
    "    \"\"\"Writer agent that creates summaries\"\"\"\n",
    "    \n",
    "    messages = state[\"messages\"]\n",
    "    \n",
    "    # Add system message\n",
    "    system_msg = SystemMessage(content=\"You are a technical writer. Review the conversation and create a clear, concise summary of the findings.\")\n",
    "    \n",
    "    # Simple completion without tools\n",
    "    response = llm.invoke([system_msg] + messages)\n",
    "    \n",
    "    return {\n",
    "        \"messages\": [response],\n",
    "        \"next_agent\": \"end\"\n",
    "    }"
   ]
  },
  {
   "cell_type": "code",
   "execution_count": 21,
   "id": "3a10c09c",
   "metadata": {},
   "outputs": [],
   "source": [
    "# Tool executor node\n",
    "def execute_tools(state: AgentState):\n",
    "    \"\"\"Execute any pending tool calls\"\"\"\n",
    "    messages = state[\"messages\"]\n",
    "    last_message = messages[-1]\n",
    "    \n",
    "    # Check if there are tool calls to execute\n",
    "    if hasattr(last_message, \"tool_calls\") and last_message.tool_calls:\n",
    "        # Create tool node and execute\n",
    "        tool_node = ToolNode([search_web, write_summary])\n",
    "        response = tool_node.invoke(state)\n",
    "        return response\n",
    "    \n",
    "    # No tools to execute\n",
    "    return state"
   ]
  },
  {
   "cell_type": "code",
   "execution_count": 26,
   "id": "fdd5a4c1",
   "metadata": {},
   "outputs": [
    {
     "data": {
      "image/png": "[encoded data removed]",
      "text/plain": [
       "<langgraph.graph.state.CompiledStateGraph object at 0x000001949E6E7950>"
      ]
     },
     "execution_count": 26,
     "metadata": {},
     "output_type": "execute_result"
    }
   ],
   "source": [
    "# Build graph\n",
    "workflow = StateGraph(MessagesState)\n",
    "\n",
    "# Add nodes\n",
    "workflow.add_node(\"researcher\", researcher_agent)\n",
    "workflow.add_node(\"writer\", writer_agent)\n",
    "\n",
    "# Define flow\n",
    "workflow.set_entry_point(\"researcher\")\n",
    "workflow.add_edge(\"researcher\", \"writer\")\n",
    "workflow.add_edge(\"writer\", END)\n",
    "\n",
    "final_workflow=workflow.compile()\n",
    "\n",
    "final_workflow"
   ]
  },
  {
   "cell_type": "code",
   "execution_count": 27,
   "id": "8db1f9a0",
   "metadata": {},
   "outputs": [],
   "source": [
    "response = final_workflow.invoke({\"messages\":\"Reasearch about the usecase of agentic ai in business\"})"
   ]
  },
  {
   "cell_type": "code",
   "execution_count": 28,
   "id": "89d6c986",
   "metadata": {},
   "outputs": [
    {
     "data": {
      "text/plain": [
       "{'messages': [HumanMessage(content='Reasearch about the usecase of agentic ai in business', additional_kwargs={}, response_metadata={}, id='3116bc20-7520-409e-8a13-67bc54616632'),\n",
       "  AIMessage(content='', additional_kwargs={'tool_calls': [{'id': 'hcrskf7eg', 'function': {'arguments': '{\"query\":\"use cases of agentic AI in business\"}', 'name': 'search_web'}, 'type': 'function'}]}, response_metadata={'token_usage': {'completion_tokens': 21, 'prompt_tokens': 245, 'total_tokens': 266, 'completion_time': 0.045793876, 'prompt_time': 0.020538396, 'queue_time': 0.058257314000000004, 'total_time': 0.066332272}, 'model_name': 'llama-3.1-8b-instant', 'system_fingerprint': 'fp_8ab2e50475', 'service_tier': 'on_demand', 'finish_reason': 'tool_calls', 'logprobs': None}, id='run--1131ef3e-3d54-4cdb-9f9e-135c076915c9-0', tool_calls=[{'name': 'search_web', 'args': {'query': 'use cases of agentic AI in business'}, 'id': 'hcrskf7eg', 'type': 'tool_call'}], usage_metadata={'input_tokens': 245, 'output_tokens': 21, 'total_tokens': 266}),\n",
       "  AIMessage(content=' \\n\\n**Summary of Findings**\\n\\nAgentic AI, also known as autonomous or self-aware AI, is a type of artificial intelligence that has the ability to make decisions, take actions, and learn from its environment without human intervention. Here are some potential use cases of agentic AI in business:\\n\\n1. **Automated Customer Service**: Agentic AI can be used to create virtual customer service agents that can respond to customer inquiries, resolve issues, and provide personalized support.\\n2. **Predictive Maintenance**: Agentic AI can analyze sensor data and predict when maintenance is required, reducing downtime and increasing equipment efficiency.\\n3. **Supply Chain Optimization**: Agentic AI can analyze supply chain data and make decisions to optimize inventory levels, shipping routes, and delivery times.\\n4. **Marketing Automation**: Agentic AI can analyze customer data and make decisions to personalize marketing campaigns, improve conversion rates, and increase customer engagement.\\n5. **Cybersecurity**: Agentic AI can analyze network traffic and detect potential security threats in real-time, reducing the risk of cyber attacks.\\n6. **Financial Analysis**: Agentic AI can analyze financial data and make decisions to predict stock prices, identify trends, and optimize investment portfolios.\\n7. **Quality Control**: Agentic AI can analyze quality control data and make decisions to detect defects, improve product quality, and reduce waste.\\n8. **HR Management**: Agentic AI can analyze HR data and make decisions to optimize recruitment, talent management, and employee engagement.\\n\\n**Key Benefits**\\n\\n1. **Increased Efficiency**: Agentic AI can automate routine tasks and free up human resources for more strategic work.\\n2. **Improved Accuracy**: Agentic AI can analyze large amounts of data and make decisions based on patterns and trends.\\n3. **Enhanced Customer Experience**: Agentic AI can provide personalized support and improve customer satisfaction.\\n4. **Increased Revenue**: Agentic AI can optimize business processes and improve profitability.\\n\\n**Challenges and Limitations**\\n\\n1. **Data Quality**: Agentic AI requires high-quality data to make accurate decisions.\\n2. **Explainability**: Agentic AI decisions can be difficult to explain, which can lead to trust issues.\\n3. **Regulatory Compliance**: Agentic AI must comply with regulations and laws, such as GDPR and CCPA.\\n4. **Human Bias**: Agentic AI can perpetuate human biases if the data used to train it is biased.\\n\\n**Recommendations**\\n\\n1. **Start Small**: Implement agentic AI in a specific business process or department to test its effectiveness.\\n2. **Monitor and Evaluate**: Continuously monitor and evaluate agentic AI performance to ensure it is meeting business objectives.\\n3. **Provide Transparency**: Provide transparency into agentic AI decisions and explainability to maintain trust.\\n4. **Address Bias**: Address human bias in data and ensure that agentic AI is fair and unbiased.\\n\\n**Conclusion**\\n\\nAgentic AI has the potential to revolutionize business processes and improve efficiency, accuracy, and customer experience. However, it also presents challenges and limitations that must be addressed. By starting small, monitoring and evaluating performance, providing transparency, and addressing bias, businesses can successfully implement agentic AI and achieve its benefits.', additional_kwargs={}, response_metadata={'token_usage': {'completion_tokens': 640, 'prompt_tokens': 88, 'total_tokens': 728, 'completion_time': 0.9778262, 'prompt_time': 0.007033951, 'queue_time': 0.052188209, 'total_time': 0.984860151}, 'model_name': 'llama-3.1-8b-instant', 'system_fingerprint': 'fp_510c177af0', 'service_tier': 'on_demand', 'finish_reason': 'stop', 'logprobs': None}, id='run--88caf413-3cbf-4d13-bf23-e3a2d644e6e1-0', usage_metadata={'input_tokens': 88, 'output_tokens': 640, 'total_tokens': 728})]}"
      ]
     },
     "execution_count": 28,
     "metadata": {},
     "output_type": "execute_result"
    }
   ],
   "source": [
    "response"
   ]
  },
  {
   "cell_type": "code",
   "execution_count": 29,
   "id": "4869d642",
   "metadata": {},
   "outputs": [
    {
     "data": {
      "text/plain": [
       "' \\n\\n**Summary of Findings**\\n\\nAgentic AI, also known as autonomous or self-aware AI, is a type of artificial intelligence that has the ability to make decisions, take actions, and learn from its environment without human intervention. Here are some potential use cases of agentic AI in business:\\n\\n1. **Automated Customer Service**: Agentic AI can be used to create virtual customer service agents that can respond to customer inquiries, resolve issues, and provide personalized support.\\n2. **Predictive Maintenance**: Agentic AI can analyze sensor data and predict when maintenance is required, reducing downtime and increasing equipment efficiency.\\n3. **Supply Chain Optimization**: Agentic AI can analyze supply chain data and make decisions to optimize inventory levels, shipping routes, and delivery times.\\n4. **Marketing Automation**: Agentic AI can analyze customer data and make decisions to personalize marketing campaigns, improve conversion rates, and increase customer engagement.\\n5. **Cybersecurity**: Agentic AI can analyze network traffic and detect potential security threats in real-time, reducing the risk of cyber attacks.\\n6. **Financial Analysis**: Agentic AI can analyze financial data and make decisions to predict stock prices, identify trends, and optimize investment portfolios.\\n7. **Quality Control**: Agentic AI can analyze quality control data and make decisions to detect defects, improve product quality, and reduce waste.\\n8. **HR Management**: Agentic AI can analyze HR data and make decisions to optimize recruitment, talent management, and employee engagement.\\n\\n**Key Benefits**\\n\\n1. **Increased Efficiency**: Agentic AI can automate routine tasks and free up human resources for more strategic work.\\n2. **Improved Accuracy**: Agentic AI can analyze large amounts of data and make decisions based on patterns and trends.\\n3. **Enhanced Customer Experience**: Agentic AI can provide personalized support and improve customer satisfaction.\\n4. **Increased Revenue**: Agentic AI can optimize business processes and improve profitability.\\n\\n**Challenges and Limitations**\\n\\n1. **Data Quality**: Agentic AI requires high-quality data to make accurate decisions.\\n2. **Explainability**: Agentic AI decisions can be difficult to explain, which can lead to trust issues.\\n3. **Regulatory Compliance**: Agentic AI must comply with regulations and laws, such as GDPR and CCPA.\\n4. **Human Bias**: Agentic AI can perpetuate human biases if the data used to train it is biased.\\n\\n**Recommendations**\\n\\n1. **Start Small**: Implement agentic AI in a specific business process or department to test its effectiveness.\\n2. **Monitor and Evaluate**: Continuously monitor and evaluate agentic AI performance to ensure it is meeting business objectives.\\n3. **Provide Transparency**: Provide transparency into agentic AI decisions and explainability to maintain trust.\\n4. **Address Bias**: Address human bias in data and ensure that agentic AI is fair and unbiased.\\n\\n**Conclusion**\\n\\nAgentic AI has the potential to revolutionize business processes and improve efficiency, accuracy, and customer experience. However, it also presents challenges and limitations that must be addressed. By starting small, monitoring and evaluating performance, providing transparency, and addressing bias, businesses can successfully implement agentic AI and achieve its benefits.'"
      ]
     },
     "execution_count": 29,
     "metadata": {},
     "output_type": "execute_result"
    }
   ],
   "source": [
    "\n",
    "response[\"messages\"][-1].content"
   ]
  },
  {
   "cell_type": "markdown",
   "id": "c3caf47a",
   "metadata": {},
   "source": [
    "## Supervise Multi AI Agent Architecture"
   ]
  },
  {
   "cell_type": "code",
   "execution_count": null,
   "id": "c11b8405",
   "metadata": {},
   "outputs": [],
   "source": [
    "from typing import TypedDict, Annotated, List, Literal, Dict, Any\n",
    "from langchain_core.messages import BaseMessage, HumanMessage, AIMessage, SystemMessage\n",
    "from langgraph.graph import StateGraph, END, MessagesState\n",
    "from langgraph.checkpoint.memory import MemorySaver\n",
    "import random\n",
    "from datetime import datetime"
   ]
  },
  {
   "cell_type": "code",
   "execution_count": null,
   "id": "b7410c9f",
   "metadata": {},
   "outputs": [],
   "source": [
    "class SupervisorState(MessagesState):\n",
    "    \"\"\"State for the multi-agent system\"\"\"\n",
    "    next_agent: str = \"\"\n",
    "    research_data: str = \"\"\n",
    "    analysis: str = \"\"\n",
    "    final_report: str = \"\"\n",
    "    task_complete: bool = False\n",
    "    current_task: str = \"\""
   ]
  },
  {
   "cell_type": "code",
   "execution_count": null,
   "id": "f41eab18",
   "metadata": {},
   "outputs": [],
   "source": [
    "# ===================================\n",
    "# Supervisor with Groq LLM\n",
    "# ===================================\n",
    "from langchain_core.prompts import ChatPromptTemplate\n",
    "def create_supervisor_chain():\n",
    "    \"\"\"Creates the supervisor decision chain\"\"\"\n",
    "    \n",
    "    supervisor_prompt = ChatPromptTemplate.from_messages([\n",
    "        (\"system\", \"\"\"You are a supervisor managing a team of agents:\n",
    "        \n",
    "1. Researcher - Gathers information and data\n",
    "2. Analyst - Analyzes data and provides insights  \n",
    "3. Writer - Creates reports and summaries\n",
    "\n",
    "Based on the current state and conversation, decide which agent should work next.\n",
    "If the task is complete, respond with 'DONE'.\n",
    "\n",
    "Current state:\n",
    "- Has research data: {has_research}\n",
    "- Has analysis: {has_analysis}\n",
    "- Has report: {has_report}\n",
    "\n",
    "Respond with ONLY the agent name (researcher/analyst/writer) or 'DONE'.\n",
    "\"\"\"),\n",
    "        (\"human\", \"{task}\")\n",
    "    ])\n",
    "    \n",
    "    return supervisor_prompt | llm"
   ]
  },
  {
   "cell_type": "code",
   "execution_count": null,
   "id": "63f1fdc6",
   "metadata": {},
   "outputs": [],
   "source": [
    "def supervisor_agent(state: SupervisorState) -> Dict:\n",
    "    \"\"\"Supervisor decides next agent using Groq LLM\"\"\"\n",
    "    \n",
    "    messages = state[\"messages\"]\n",
    "    task = messages[-1].content if messages else \"No task\"\n",
    "    \n",
    "    # Check what's been completed\n",
    "    has_research = bool(state.get(\"research_data\", \"\"))\n",
    "    has_analysis = bool(state.get(\"analysis\", \"\"))\n",
    "    has_report = bool(state.get(\"final_report\", \"\"))\n",
    "    \n",
    "    # Get LLM decision\n",
    "    chain = create_supervisor_chain()\n",
    "    decision = chain.invoke({\n",
    "        \"task\": task,\n",
    "        \"has_research\": has_research,\n",
    "        \"has_analysis\": has_analysis,\n",
    "        \"has_report\": has_report\n",
    "    })\n",
    "    \n",
    "    # Parse decision\n",
    "    decision_text = decision.content.strip().lower()\n",
    "    print(decision_text)\n",
    "    \n",
    "    # Determine next agent\n",
    "    if \"done\" in decision_text or has_report:\n",
    "        next_agent = \"end\"\n",
    "        supervisor_msg = \"✅ Supervisor: All tasks complete! Great work team.\"\n",
    "    elif \"researcher\" in decision_text or not has_research:\n",
    "        next_agent = \"researcher\"\n",
    "        supervisor_msg = \"📋 Supervisor: Let's start with research. Assigning to Researcher...\"\n",
    "    elif \"analyst\" in decision_text or (has_research and not has_analysis):\n",
    "        next_agent = \"analyst\"\n",
    "        supervisor_msg = \"📋 Supervisor: Research done. Time for analysis. Assigning to Analyst...\"\n",
    "    elif \"writer\" in decision_text or (has_analysis and not has_report):\n",
    "        next_agent = \"writer\"\n",
    "        supervisor_msg = \"📋 Supervisor: Analysis complete. Let's create the report. Assigning to Writer...\"\n",
    "    else:\n",
    "        next_agent = \"end\"\n",
    "        supervisor_msg = \"✅ Supervisor: Task seems complete.\"\n",
    "    \n",
    "    return {\n",
    "        \"messages\": [AIMessage(content=supervisor_msg)],\n",
    "        \"next_agent\": next_agent,\n",
    "        \"current_task\": task\n",
    "    }"
   ]
  },
  {
   "cell_type": "code",
   "execution_count": null,
   "id": "e9d8ff27",
   "metadata": {},
   "outputs": [],
   "source": [
    "# ===================================\n",
    "# Agent 1: Researcher (using Groq)\n",
    "# ===================================\n",
    "\n",
    "def researcher_agent(state: SupervisorState) -> Dict:\n",
    "    \"\"\"Researcher uses Groq to gather information\"\"\"\n",
    "    \n",
    "    task = state.get(\"current_task\", \"research topic\")\n",
    "    \n",
    "    # Create research prompt\n",
    "    research_prompt = f\"\"\"As a research specialist, provide comprehensive information about: {task}\n",
    "\n",
    "    Include:\n",
    "    1. Key facts and background\n",
    "    2. Current trends or developments\n",
    "    3. Important statistics or data points\n",
    "    4. Notable examples or case studies\n",
    "    \n",
    "    Be concise but thorough.\"\"\"\n",
    "    \n",
    "    # Get research from LLM\n",
    "    research_response = llm.invoke([HumanMessage(content=research_prompt)])\n",
    "    research_data = research_response.content\n",
    "    \n",
    "    # Create agent message\n",
    "    agent_message = f\"🔍 Researcher: I've completed the research on '{task}'.\\n\\nKey findings:\\n{research_data[:500]}...\"\n",
    "    \n",
    "    return {\n",
    "        \"messages\": [AIMessage(content=agent_message)],\n",
    "        \"research_data\": research_data,\n",
    "        \"next_agent\": \"supervisor\"\n",
    "    }"
   ]
  },
  {
   "cell_type": "code",
   "execution_count": null,
   "id": "caf062a4",
   "metadata": {},
   "outputs": [],
   "source": [
    "# ===================================\n",
    "# Agent 2: Analyst (using Groq)\n",
    "# ===================================\n",
    "\n",
    "def analyst_agent(state: SupervisorState) -> Dict:\n",
    "    \"\"\"Analyst uses Groq to analyze the research\"\"\"\n",
    "    \n",
    "    research_data = state.get(\"research_data\", \"\")\n",
    "    task = state.get(\"current_task\", \"\")\n",
    "    \n",
    "    # Create analysis prompt\n",
    "    analysis_prompt = f\"\"\"As a data analyst, analyze this research data and provide insights:\n",
    "\n",
    "Research Data:\n",
    "{research_data}\n",
    "\n",
    "Provide:\n",
    "1. Key insights and patterns\n",
    "2. Strategic implications\n",
    "3. Risks and opportunities\n",
    "4. Recommendations\n",
    "\n",
    "Focus on actionable insights related to: {task}\"\"\"\n",
    "    \n",
    "    # Get analysis from LLM\n",
    "    analysis_response = llm.invoke([HumanMessage(content=analysis_prompt)])\n",
    "    analysis = analysis_response.content\n",
    "    \n",
    "    # Create agent message\n",
    "    agent_message = f\"📊 Analyst: I've completed the analysis.\\n\\nTop insights:\\n{analysis[:400]}...\"\n",
    "    \n",
    "    return {\n",
    "        \"messages\": [AIMessage(content=agent_message)],\n",
    "        \"analysis\": analysis,\n",
    "        \"next_agent\": \"supervisor\"\n",
    "    }"
   ]
  },
  {
   "cell_type": "code",
   "execution_count": null,
   "id": "dfeb30fb",
   "metadata": {},
   "outputs": [],
   "source": [
    "# ===================================\n",
    "# Agent 3: Writer (using Groq)\n",
    "# ===================================\n",
    "\n",
    "def writer_agent(state: SupervisorState) -> Dict:\n",
    "    \"\"\"Writer uses Groq to create final report\"\"\"\n",
    "    \n",
    "    research_data = state.get(\"research_data\", \"\")\n",
    "    analysis = state.get(\"analysis\", \"\")\n",
    "    task = state.get(\"current_task\", \"\")\n",
    "    \n",
    "    # Create writing prompt\n",
    "    writing_prompt = f\"\"\"As a professional writer, create an executive report based on:\n",
    "\n",
    "Task: {task}\n",
    "\n",
    "Research Findings:\n",
    "{research_data[:1000]}\n",
    "\n",
    "Analysis:\n",
    "{analysis[:1000]}\n",
    "\n",
    "Create a well-structured report with:\n",
    "1. Executive Summary\n",
    "2. Key Findings  \n",
    "3. Analysis & Insights\n",
    "4. Recommendations\n",
    "5. Conclusion\n",
    "\n",
    "Keep it professional and concise.\"\"\"\n",
    "    \n",
    "    # Get report from LLM\n",
    "    report_response = llm.invoke([HumanMessage(content=writing_prompt)])\n",
    "    report = report_response.content\n",
    "    \n",
    "    # Create final formatted report\n",
    "    final_report = f\"\"\"\n",
    "📄 FINAL REPORT\n",
    "{'='*50}\n",
    "Generated: {datetime.now().strftime('%Y-%m-%d %H:%M')}\n",
    "Topic: {task}\n",
    "{'='*50}\n",
    "\n",
    "{report}\n",
    "\n",
    "{'='*50}\n",
    "Report compiled by Multi-Agent AI System powered by Groq\n",
    "\"\"\"\n",
    "    \n",
    "    return {\n",
    "        \"messages\": [AIMessage(content=f\"✍️ Writer: Report complete! See below for the full document.\")],\n",
    "        \"final_report\": final_report,\n",
    "        \"next_agent\": \"supervisor\",\n",
    "        \"task_complete\": True\n",
    "    }"
   ]
  },
  {
   "cell_type": "code",
   "execution_count": null,
   "id": "6b61ff4c",
   "metadata": {},
   "outputs": [],
   "source": [
    "# ===================================\n",
    "# Router Function\n",
    "# ===================================\n",
    "\n",
    "def router(state: SupervisorState) -> Literal[\"supervisor\", \"researcher\", \"analyst\", \"writer\", \"__end__\"]:\n",
    "    \"\"\"Routes to next agent based on state\"\"\"\n",
    "    \n",
    "    next_agent = state.get(\"next_agent\", \"supervisor\")\n",
    "    \n",
    "    if next_agent == \"end\" or state.get(\"task_complete\", False):\n",
    "        return END\n",
    "        \n",
    "    if next_agent in [\"supervisor\", \"researcher\", \"analyst\", \"writer\"]:\n",
    "        return next_agent\n",
    "        \n",
    "    return \"supervisor\""
   ]
  },
  {
   "cell_type": "code",
   "execution_count": null,
   "id": "09969e8b",
   "metadata": {},
   "outputs": [],
   "source": [
    "# Create workflow\n",
    "workflow = StateGraph(SupervisorState)\n",
    "\n",
    "# Add nodes\n",
    "workflow.add_node(\"supervisor\", supervisor_agent)\n",
    "workflow.add_node(\"researcher\", researcher_agent)\n",
    "workflow.add_node(\"analyst\", analyst_agent)\n",
    "workflow.add_node(\"writer\", writer_agent)\n",
    "\n",
    "# Set entry point\n",
    "workflow.set_entry_point(\"supervisor\")\n",
    "\n",
    "# Add routing\n",
    "for node in [\"supervisor\", \"researcher\", \"analyst\", \"writer\"]:\n",
    "    workflow.add_conditional_edges(\n",
    "        node,\n",
    "        router,\n",
    "        {\n",
    "            \"supervisor\": \"supervisor\",\n",
    "            \"researcher\": \"researcher\",\n",
    "            \"analyst\": \"analyst\",\n",
    "            \"writer\": \"writer\",\n",
    "            END: END\n",
    "        }\n",
    "    )\n",
    "\n",
    "graph=workflow.compile()"
   ]
  },
  {
   "cell_type": "code",
   "execution_count": null,
   "id": "93c10bf4",
   "metadata": {},
   "outputs": [],
   "source": [
    "graph"
   ]
  },
  {
   "cell_type": "code",
   "execution_count": null,
   "id": "a43122a0",
   "metadata": {},
   "outputs": [],
   "source": [
    "\n",
    "response=graph.invoke(HumanMessage(content=\"What are the benefits and risks of AI in healthcare?\"))"
   ]
  },
  {
   "cell_type": "code",
   "execution_count": null,
   "id": "7acaefbe",
   "metadata": {},
   "outputs": [],
   "source": [
    "\n",
    "response['final_report']"
   ]
  },
  {
   "cell_type": "code",
   "execution_count": null,
   "id": "3868a097",
   "metadata": {},
   "outputs": [],
   "source": []
  },
  {
   "cell_type": "code",
   "execution_count": null,
   "id": "cf0ecc23",
   "metadata": {},
   "outputs": [],
   "source": []
  }
 ],
 "metadata": {
  "kernelspec": {
   "display_name": "agentic-langgraph",
   "language": "python",
   "name": "python3"
  },
  "language_info": {
   "codemirror_mode": {
    "name": "ipython",
    "version": 3
   },
   "file_extension": ".py",
   "mimetype": "text/x-python",
   "name": "python",
   "nbconvert_exporter": "python",
   "pygments_lexer": "ipython3",
   "version": "3.11.7"
  }
 },
 "nbformat": 4,
 "nbformat_minor": 5
}
